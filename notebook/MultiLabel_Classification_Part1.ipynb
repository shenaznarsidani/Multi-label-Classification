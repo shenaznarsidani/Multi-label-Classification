{
  "nbformat": 4,
  "nbformat_minor": 0,
  "metadata": {
    "colab": {
      "provenance": [],
      "collapsed_sections": []
    },
    "kernelspec": {
      "name": "python3",
      "display_name": "Python 3"
    },
    "language_info": {
      "name": "python"
    }
  },
  "cells": [
    {
      "cell_type": "markdown",
      "source": [
        "Ref:\n",
        "\n",
        "https://scikit-learn.org/stable/modules/generated/sklearn.svm.LinearSVC.html \n",
        "https://www.vebuso.com/2020/03/svm-hyperparameter-tuning-using-gridsearchcv/ \n",
        "https://scikit-learn.org/stable/modules/generated/sklearn.svm.SVC.html "
      ],
      "metadata": {
        "id": "re-V5HhEcdFu"
      }
    },
    {
      "cell_type": "markdown",
      "source": [
        "(a) Download the Anuran Calls (MFCCs) Data Set from: https://archive.ics.uci.edu/ml/datasets/Anuran+Calls+%28MFCCs%29. Choose 70% of the data\n",
        "randomly as the training set."
      ],
      "metadata": {
        "id": "p4cVo5PsQdSq"
      }
    },
    {
      "cell_type": "code",
      "execution_count": 49,
      "metadata": {
        "id": "Rj7FOHjyN8sv"
      },
      "outputs": [],
      "source": [
        "import pandas as pd\n",
        "from sklearn.model_selection import train_test_split\n",
        "from sklearn.metrics import accuracy_score"
      ]
    },
    {
      "cell_type": "code",
      "source": [
        "data_path = \"../data/\"\n",
        "#data_path = \"\"\n",
        "data_file = data_path+\"Frogs_MFCCs.csv\"\n",
        "data = pd.read_csv(data_file)\n",
        "#print(data.shape)\n",
        "\n",
        "col=list( data.columns)\n",
        "labels = col[-2:-5:-1]\n",
        "\n",
        "x = data[sorted(list(set(col)-set(col[-1:-5:-1])))]\n",
        "y = data[labels]\n",
        "\n",
        "x_train, x_test, y_train, y_test = train_test_split(x, y, test_size=0.3, random_state=50)\n",
        "#print(x_train.shape, x_test.shape, y_train.shape, y_test.shape)\n",
        "print(x.shape, y.shape)"
      ],
      "metadata": {
        "id": "Sm-RDsDSOOD_",
        "colab": {
          "base_uri": "https://localhost:8080/"
        },
        "outputId": "2df6343d-9338-43ad-f01f-f7ff6c3b102d"
      },
      "execution_count": 50,
      "outputs": [
        {
          "output_type": "stream",
          "name": "stdout",
          "text": [
            "(7195, 22) (7195, 3)\n"
          ]
        }
      ]
    },
    {
      "cell_type": "markdown",
      "source": [
        "(b) Each instance has three labels: Families, Genus, and Species. Each of the labels\n",
        "has multiple classes. We wish to solve a multi-class and multi-label problem.\n",
        "One of the most important approaches to multi-label classification is to train a\n",
        "classifier for each label (binary relevance). We first try this approach:\n",
        "\n",
        "\n",
        "i. Research exact match and hamming score/ loss methods for evaluating multi-label classification and use them in evaluating the classifiers in this problem.\n"
      ],
      "metadata": {
        "id": "guJyLNYGUlIR"
      }
    },
    {
      "cell_type": "markdown",
      "source": [
        "Ref : https://scikit-learn.org/stable/modules/generated/sklearn.metrics.hamming_loss.html\n",
        "\n",
        "https://mmuratarat.github.io/2020-01-25/multilabel_classification_metrics\n",
        "\n",
        "Exact match ratio would just to ignore partially correct (consider them incorrect) and extend the accuracy used in single label case for multi-label prediction. Disadvantage of this measure is that it does not distinguish between complete incorrect and partially correct which might be considered harsh.\n",
        "\n",
        "\n",
        "The Hamming loss is the fraction of labels that are incorrectly predicted.\n",
        "\n",
        "In multilabel classification, the Hamming loss is different from the subset zero-one loss. The zero-one loss considers the entire set of labels for a given sample incorrect if it does not entirely match the true set of labels. Hamming loss is more forgiving in that it penalizes only the individual labels.\n",
        "\n",
        "The Hamming loss is upperbounded by the subset zero-one loss, when normalize parameter is set to True. It is always between 0 and 1, lower being better."
      ],
      "metadata": {
        "id": "vJCZ8HypVsCh"
      }
    },
    {
      "cell_type": "markdown",
      "source": [
        "ii. Train a SVM for each of the labels, using Gaussian kernels and one versus\n",
        "all classifiers. Determine the weight of the SVM penalty and the width of\n",
        "the Gaussian Kernel using 10 fold cross validation.1 You are welcome to try\n",
        "to solve the problem with both standardized 2 and raw attributes and report\n",
        "the results."
      ],
      "metadata": {
        "id": "T5n5PtOrU5GL"
      }
    },
    {
      "cell_type": "code",
      "source": [
        "from sklearn.metrics import hamming_loss"
      ],
      "metadata": {
        "id": "eXDVaLbp2Zz1"
      },
      "execution_count": 52,
      "outputs": []
    },
    {
      "cell_type": "code",
      "source": [
        "from sklearn.multioutput import MultiOutputClassifier\n",
        "from sklearn.model_selection import RepeatedKFold, StratifiedKFold\n",
        "from sklearn.svm import SVC\n",
        "from sklearn.metrics import multilabel_confusion_matrix, ConfusionMatrixDisplay, confusion_matrix\n",
        "import numpy as np\n",
        "import matplotlib.pyplot as plt\n",
        "from sklearn.model_selection import GridSearchCV\n",
        "from sklearn.model_selection import cross_val_score\n",
        "\n",
        "svm = SVC(random_state=42, kernel = \"rbf\", decision_function_shape =\"ovr\")\n",
        "\n",
        "cross_validator = StratifiedKFold(n_splits=10, shuffle=True, random_state=69)\n",
        "param1 = { 'C':[0.0001,0.001,0.01,0.1],'gamma': [0.0,0.2,0.4,0.6,0.8,1]}\n",
        "param2 = { 'C':[1,10,100,1000,1000],'gamma': [1.2,1.4,1.6,1.8,2]}\n",
        "gridcv_low = GridSearchCV(svm,param_grid= param1, cv= cross_validator,refit=True)\n",
        "gridcv_high = GridSearchCV(svm,param_grid= param2, cv= cross_validator,refit=True)"
      ],
      "metadata": {
        "id": "SlUvnBhmSSyG"
      },
      "execution_count": 53,
      "outputs": []
    },
    {
      "cell_type": "code",
      "source": [
        "gridcv_low0 = gridcv_low.fit(x_train,y_train[labels[0]])\n",
        "gridcv_high0 = gridcv_high.fit(x_train,y_train[labels[0]])\n",
        "print(gridcv_low0.best_estimator_, gridcv_high0.best_estimator_ )"
      ],
      "metadata": {
        "id": "4xFqvqDgO2pC",
        "colab": {
          "base_uri": "https://localhost:8080/"
        },
        "outputId": "1b61df7f-ebdd-4baf-b158-7c40ec62a742"
      },
      "execution_count": 54,
      "outputs": [
        {
          "output_type": "stream",
          "name": "stdout",
          "text": [
            "SVC(C=0.1, gamma=1, random_state=42) SVC(C=10, gamma=1.6, random_state=42)\n"
          ]
        }
      ]
    },
    {
      "cell_type": "code",
      "source": [
        "gridcv_low1 = gridcv_low.fit(x_train,y_train[labels[1]])\n",
        "gridcv_high1 = gridcv_high.fit(x_train,y_train[labels[1]])\n",
        "print(gridcv_low1.best_estimator_, gridcv_high1.best_estimator_ )"
      ],
      "metadata": {
        "id": "vs-fiig-OsZL",
        "colab": {
          "base_uri": "https://localhost:8080/"
        },
        "outputId": "39d5b30a-7b4f-4d6b-e3ed-2fd5922cff10"
      },
      "execution_count": 55,
      "outputs": [
        {
          "output_type": "stream",
          "name": "stdout",
          "text": [
            "SVC(C=0.1, gamma=1, random_state=42) SVC(C=100, gamma=1.4, random_state=42)\n"
          ]
        }
      ]
    },
    {
      "cell_type": "code",
      "source": [
        "gridcv_low2 = gridcv_low.fit(x_train,y_train[labels[2]])\n",
        "gridcv_high2 = gridcv_high.fit(x_train,y_train[labels[2]])\n",
        "print(gridcv_low2.best_estimator_, gridcv_high2.best_estimator_ )"
      ],
      "metadata": {
        "colab": {
          "base_uri": "https://localhost:8080/"
        },
        "id": "9qyPDFOlL1uv",
        "outputId": "0973cc03-f1be-4535-a92a-912fc0089d28"
      },
      "execution_count": 56,
      "outputs": [
        {
          "output_type": "stream",
          "name": "stdout",
          "text": [
            "SVC(C=0.1, gamma=1, random_state=42) SVC(C=100, gamma=1.8, random_state=42)\n"
          ]
        }
      ]
    },
    {
      "cell_type": "code",
      "source": [
        "param = { 'C':[0.1,1,10],'gamma': [1,1.2,1.4,1.6]}\n",
        "gridcv = GridSearchCV(svm,param_grid= param, cv= cross_validator,refit=True)\n",
        "gridcv0 = gridcv.fit(x_train,y_train[labels[0]])\n",
        "print(gridcv0.best_estimator_)\n",
        "y_test_pred0 = gridcv0.predict(x_test)"
      ],
      "metadata": {
        "colab": {
          "base_uri": "https://localhost:8080/"
        },
        "id": "iGzptLMBKGVB",
        "outputId": "a8964873-ff1f-45c4-c3f3-605915d22c1c"
      },
      "execution_count": 57,
      "outputs": [
        {
          "output_type": "stream",
          "name": "stdout",
          "text": [
            "SVC(C=10, gamma=1.6, random_state=42)\n"
          ]
        }
      ]
    },
    {
      "cell_type": "code",
      "source": [
        "print(hamming_loss(y_test[labels[0]], y_test_pred0))\n"
      ],
      "metadata": {
        "colab": {
          "base_uri": "https://localhost:8080/"
        },
        "id": "hlJbZm7hNSJw",
        "outputId": "90f2c177-1019-423d-d4d0-73ebfb402ecc"
      },
      "execution_count": 74,
      "outputs": [
        {
          "output_type": "stream",
          "name": "stdout",
          "text": [
            "0.008800370541917554\n"
          ]
        }
      ]
    },
    {
      "cell_type": "code",
      "source": [
        "param = { 'C':[0.1,1,10, 100],'gamma': [1,1.2,1.4]}\n",
        "gridcv = GridSearchCV(svm,param_grid= param, cv= cross_validator,refit=True)\n",
        "gridcv1 = gridcv.fit(x_train,y_train[labels[1]])\n",
        "print(gridcv1.best_estimator_)\n",
        "y_test_pred1 = gridcv1.predict(x_test)"
      ],
      "metadata": {
        "colab": {
          "base_uri": "https://localhost:8080/"
        },
        "id": "xq5YJeuJLkbK",
        "outputId": "073d9e36-f567-43f1-c4ab-051f2e52eec6"
      },
      "execution_count": 59,
      "outputs": [
        {
          "output_type": "stream",
          "name": "stdout",
          "text": [
            "SVC(C=100, gamma=1.4, random_state=42)\n"
          ]
        }
      ]
    },
    {
      "cell_type": "code",
      "source": [
        "print(hamming_loss(y_test[labels[1]], y_test_pred1))"
      ],
      "metadata": {
        "colab": {
          "base_uri": "https://localhost:8080/"
        },
        "id": "SD2Ifm_CNYyZ",
        "outputId": "a0f9d58a-858f-4226-8e5f-42239fd8fb2d"
      },
      "execution_count": 75,
      "outputs": [
        {
          "output_type": "stream",
          "name": "stdout",
          "text": [
            "0.009726725335803613\n"
          ]
        }
      ]
    },
    {
      "cell_type": "code",
      "source": [
        "param = { 'C':[0.1,1,10, 100],'gamma': [1,1.2,1.4,1.6,1.8]}\n",
        "gridcv = GridSearchCV(svm,param_grid= param, cv= cross_validator,refit=True)\n",
        "gridcv2 = gridcv.fit(x_train,y_train[labels[2]])\n",
        "print(gridcv2.best_estimator_)\n",
        "y_test_pred2 = gridcv2.predict(x_test)"
      ],
      "metadata": {
        "colab": {
          "base_uri": "https://localhost:8080/"
        },
        "id": "bqtj-qfHL-K4",
        "outputId": "0cf7fd73-7602-4cc0-d1a5-138f05109044"
      },
      "execution_count": 61,
      "outputs": [
        {
          "output_type": "stream",
          "name": "stdout",
          "text": [
            "SVC(C=100, gamma=1.8, random_state=42)\n"
          ]
        }
      ]
    },
    {
      "cell_type": "code",
      "source": [
        "print(hamming_loss(y_test[labels[2]], y_test_pred2))"
      ],
      "metadata": {
        "colab": {
          "base_uri": "https://localhost:8080/"
        },
        "id": "wF6hM0R6Nc2J",
        "outputId": "157b49fc-f4c0-4668-fe58-dacacaa04eac"
      },
      "execution_count": 76,
      "outputs": [
        {
          "output_type": "stream",
          "name": "stdout",
          "text": [
            "0.007874015748031496\n"
          ]
        }
      ]
    },
    {
      "cell_type": "code",
      "source": [
        "def exact_match(df1,df2):\n",
        "    df= pd.DataFrame()\n",
        "    for col in df1.columns:\n",
        "        #print(df1[col].values==df2[col].values)\n",
        "        df[col]=np.array(df1[col].values==df2[col].values)\n",
        "    \n",
        "    df[\"e_match\"] =df[labels[0]] & df[labels[1]] & df[labels[2]]\n",
        "    f=df[\"e_match\"].value_counts()[0]\n",
        "    t=df[\"e_match\"].value_counts()[1]\n",
        "    return t/(t+f)         "
      ],
      "metadata": {
        "id": "_Sk0fhvw308M"
      },
      "execution_count": 117,
      "outputs": []
    },
    {
      "cell_type": "code",
      "source": [
        "y_pred_svm = pd.DataFrame({labels[0]:y_test_pred0, labels[1]:y_test_pred1,labels[2]:y_test_pred2}, columns = labels)\n",
        "print(\"Exact match -\", exact_match(y_test,y_pred_svm))\n",
        "print(\"Avg Hamming loss - \", (hamming_loss(y_test[labels[0]], y_test_pred0) + hamming_loss(y_test[labels[1]], y_test_pred1) + hamming_loss(y_test[labels[2]], y_test_pred2) )/3 )"
      ],
      "metadata": {
        "colab": {
          "base_uri": "https://localhost:8080/"
        },
        "id": "Pc8kDZmA5CIL",
        "outputId": "0b2fc6f1-1b87-46cd-c155-a2d4a8949b10"
      },
      "execution_count": 119,
      "outputs": [
        {
          "output_type": "stream",
          "name": "stdout",
          "text": [
            "Exact match - 0.9888837424733673\n",
            "Avg Hamming loss -  0.008800370541917554\n"
          ]
        }
      ]
    },
    {
      "cell_type": "markdown",
      "source": [
        "(iii) Repeat 1(b)ii with L1-penalized SVMs.3 Remember to standardize4\n",
        "the attributes. Determine the weight of the SVM penalty using 10 fold cross validation"
      ],
      "metadata": {
        "id": "HCqoScwIQBoD"
      }
    },
    {
      "cell_type": "code",
      "source": [
        "#Standardizing\n",
        "from sklearn import preprocessing\n",
        "from sklearn.svm import LinearSVC\n",
        "\n",
        "scaler = preprocessing.StandardScaler().fit(x_train)\n",
        "x_train_scaled = scaler.transform(x_train)\n",
        "x_train_scaled = pd.DataFrame(x_train_scaled, columns = x_train.columns)\n",
        "\n",
        "x_test_scaled = scaler.transform(x_test) \n",
        "x_test_scaled = pd.DataFrame(x_test_scaled, columns = x_test.columns)\n",
        "\n",
        "linear_svm = LinearSVC(penalty='l1',  multi_class='ovr',  dual=False, max_iter =100000)\n",
        "param = { 'C':[0.0001,0.001,0.01,0.1,1,10,100,1000]}\n",
        "cross_validator = StratifiedKFold(n_splits=10, shuffle=True, random_state=69)\n",
        "gridcv_linear = GridSearchCV(linear_svm,param_grid= param, cv= cross_validator,refit=True)\n"
      ],
      "metadata": {
        "id": "5VQR6cfoU6Bj"
      },
      "execution_count": 120,
      "outputs": []
    },
    {
      "cell_type": "code",
      "source": [
        "gridcv_linear0 = gridcv_linear.fit(x_train_scaled,y_train[labels[0]])\n",
        "print(gridcv_linear0.best_estimator_)\n",
        "y_test_pred_linear0 = gridcv_linear0.predict(x_test_scaled)"
      ],
      "metadata": {
        "colab": {
          "base_uri": "https://localhost:8080/"
        },
        "id": "No7r0CwGXA6j",
        "outputId": "987bb200-4673-4e68-d6cf-d7fd45d8dc9a"
      },
      "execution_count": 121,
      "outputs": [
        {
          "output_type": "stream",
          "name": "stderr",
          "text": [
            "/usr/local/lib/python3.7/dist-packages/sklearn/svm/_base.py:1208: ConvergenceWarning: Liblinear failed to converge, increase the number of iterations.\n",
            "  ConvergenceWarning,\n"
          ]
        },
        {
          "output_type": "stream",
          "name": "stdout",
          "text": [
            "LinearSVC(C=1, dual=False, max_iter=100000, penalty='l1')\n"
          ]
        }
      ]
    },
    {
      "cell_type": "code",
      "source": [
        "gridcv_linear1 = gridcv_linear.fit(x_train_scaled,y_train[labels[1]])\n",
        "print(gridcv_linear1.best_estimator_)\n",
        "y_test_pred_linear1 = gridcv_linear1.predict(x_test_scaled)"
      ],
      "metadata": {
        "colab": {
          "base_uri": "https://localhost:8080/"
        },
        "id": "vrtj-l43XSdj",
        "outputId": "de98e700-dcbd-47d1-ac61-f5243cb9bb12"
      },
      "execution_count": 122,
      "outputs": [
        {
          "output_type": "stream",
          "name": "stdout",
          "text": [
            "LinearSVC(C=100, dual=False, max_iter=100000, penalty='l1')\n"
          ]
        }
      ]
    },
    {
      "cell_type": "code",
      "source": [
        "gridcv_linear2 = gridcv_linear.fit(x_train_scaled,y_train[labels[2]])\n",
        "print(gridcv_linear2.best_estimator_)\n",
        "y_test_pred_linear2 = gridcv_linear2.predict(x_test_scaled)"
      ],
      "metadata": {
        "colab": {
          "base_uri": "https://localhost:8080/"
        },
        "id": "LIzOMUTeYeRS",
        "outputId": "42b0bc86-90c4-4953-d671-0c8628686cf9"
      },
      "execution_count": 123,
      "outputs": [
        {
          "output_type": "stream",
          "name": "stdout",
          "text": [
            "LinearSVC(C=1, dual=False, max_iter=100000, penalty='l1')\n"
          ]
        }
      ]
    },
    {
      "cell_type": "code",
      "source": [
        "print(\"hamming_loss for label Families - \", hamming_loss(y_test[labels[0]], y_test_pred_linear0))\n",
        "print(\"hamming_loss for label Species - \",hamming_loss(y_test[labels[1]], y_test_pred_linear1))\n",
        "print(\"hamming_loss for label Species - \",hamming_loss(y_test[labels[2]], y_test_pred_linear2))"
      ],
      "metadata": {
        "colab": {
          "base_uri": "https://localhost:8080/"
        },
        "id": "laK7bcTi1WgX",
        "outputId": "71cbf213-4f31-4ed4-a68b-863b4c0112d6"
      },
      "execution_count": 124,
      "outputs": [
        {
          "output_type": "stream",
          "name": "stdout",
          "text": [
            "hamming_loss for label Families -  0.04353867531264474\n",
            "hamming_loss for label Species -  0.05141269106067624\n",
            "hamming_loss for label Species -  0.06530801296896711\n"
          ]
        }
      ]
    },
    {
      "cell_type": "code",
      "source": [
        "y_pred_linear = pd.DataFrame({labels[0]:y_test_pred_linear0, labels[1]:y_test_pred_linear1,labels[2]:y_test_pred_linear2}, columns = labels)\n",
        "print(\"Exact match -\", exact_match(y_test,y_pred_linear))\n",
        "print(\"Avg Hamming loss - \", (hamming_loss(y_test[labels[0]], y_test_pred_linear0) + hamming_loss(y_test[labels[1]], y_test_pred_linear1) + hamming_loss(y_test[labels[2]], y_test_pred_linear2) )/3 )"
      ],
      "metadata": {
        "colab": {
          "base_uri": "https://localhost:8080/"
        },
        "id": "MUVnRSdy5h7R",
        "outputId": "e959c330-8638-432b-c3ec-bd97bf162dd0"
      },
      "execution_count": 125,
      "outputs": [
        {
          "output_type": "stream",
          "name": "stdout",
          "text": [
            "Exact match - 0.9124594719777674\n",
            "Avg Hamming loss -  0.05341979311409603\n"
          ]
        }
      ]
    },
    {
      "cell_type": "markdown",
      "source": [
        "(iv) Repeat 1(b)iii by using SMOTE or any other method you know to remedy\n",
        "class imbalance. Report your conclusions about the classifiers you trained."
      ],
      "metadata": {
        "id": "EYSlDDw9bxb_"
      }
    },
    {
      "cell_type": "code",
      "source": [
        "from imblearn.pipeline import Pipeline as imbpipeline\n",
        "from imblearn.pipeline import make_pipeline\n",
        "from sklearn.metrics import mean_squared_error\n",
        "from imblearn.over_sampling import SMOTE\n",
        "n_folds = 10\n",
        "param = {'classifier__C': [ 1e-4, 1e-3, 1e-2, 1e-1, 1, 10, 100, 1000, 10000]}\n",
        "linear_svm = LinearSVC(penalty='l1',  multi_class='ovr',  dual=False, max_iter =100000)\n",
        "pipeline = imbpipeline(steps = [['smote', SMOTE(random_state=11)],\n",
        "                                ['classifier', linear_svm]\n",
        "                                ])\n",
        "smote = SMOTE(random_state=0)\n",
        "smp_pipeline = make_pipeline(smote, linear_svm)\n",
        "cross_validator = StratifiedKFold(n_splits=n_folds, shuffle=True, random_state=69)\n",
        "gridSearchCV = GridSearchCV(estimator = pipeline,param_grid=param, cv=cross_validator, n_jobs = 10 , scoring='f1_micro') \n"
      ],
      "metadata": {
        "id": "DENEy0572alU"
      },
      "execution_count": 126,
      "outputs": []
    },
    {
      "cell_type": "code",
      "source": [
        "girdcv_sm0 = gridSearchCV.fit(x_train_scaled,y_train[labels[0]])"
      ],
      "metadata": {
        "id": "xzn1EuALVDl5"
      },
      "execution_count": 138,
      "outputs": []
    },
    {
      "cell_type": "code",
      "source": [
        "cv_score = girdcv_sm0.best_score_\n",
        "y_test_pred_sm0 = girdcv_sm0.predict(x_test_scaled)\n",
        "print(hamming_loss(y_test[labels[0]], y_test_pred_sm0))"
      ],
      "metadata": {
        "colab": {
          "base_uri": "https://localhost:8080/"
        },
        "id": "SgxQ4E_jVGZp",
        "outputId": "65cc28c6-45b6-49dd-bdf6-f04788510e1c"
      },
      "execution_count": 139,
      "outputs": [
        {
          "output_type": "stream",
          "name": "stdout",
          "text": [
            "0.04955998147290412\n"
          ]
        }
      ]
    },
    {
      "cell_type": "code",
      "source": [
        "girdcv_sm1 = gridSearchCV.fit(x_train_scaled,y_train[labels[1]])"
      ],
      "metadata": {
        "id": "GJx18HGYVo5i"
      },
      "execution_count": 141,
      "outputs": []
    },
    {
      "cell_type": "code",
      "source": [
        "cv_score1 = girdcv_sm1.best_score_\n",
        "y_test_pred_sm1 = girdcv_sm1.predict(x_test_scaled)\n",
        "\n",
        "print(hamming_loss(y_test[labels[1]], y_test_pred_sm1))"
      ],
      "metadata": {
        "colab": {
          "base_uri": "https://localhost:8080/"
        },
        "id": "t_2udbV4Vqmn",
        "outputId": "dc1e792c-4fb4-4a92-f7be-9643be6e2917"
      },
      "execution_count": 142,
      "outputs": [
        {
          "output_type": "stream",
          "name": "stdout",
          "text": [
            "0.0968040759610931\n"
          ]
        }
      ]
    },
    {
      "cell_type": "code",
      "source": [
        "girdcv_sm2 = gridSearchCV.fit(x_train_scaled,y_train[labels[2]])"
      ],
      "metadata": {
        "id": "0UiZINP5V2fB"
      },
      "execution_count": 132,
      "outputs": []
    },
    {
      "cell_type": "code",
      "source": [
        "cv_score = girdcv_sm2.best_score_\n",
        "y_test_pred_sm2 = girdcv_sm2.predict(x_test_scaled)\n",
        "\n",
        "print(hamming_loss(y_test[labels[2]], y_test_pred_sm2))"
      ],
      "metadata": {
        "colab": {
          "base_uri": "https://localhost:8080/"
        },
        "id": "Sw2hj0qaVz9Z",
        "outputId": "3eb3751a-8f93-40ab-c559-adf49365896b"
      },
      "execution_count": 133,
      "outputs": [
        {
          "output_type": "stream",
          "name": "stdout",
          "text": [
            "0.0856878184344604\n"
          ]
        }
      ]
    },
    {
      "cell_type": "code",
      "source": [
        "y_pred_sm = pd.DataFrame({labels[0]:y_test_pred_sm0, labels[1]:y_test_pred_sm1,labels[2]:y_test_pred_sm2}, columns = labels)\n",
        "print(\"Exact match -\", exact_match(y_test,y_pred_sm))\n",
        "print(\"Avg Hamming loss - \", (hamming_loss(y_test[labels[0]], y_test_pred_sm0) + hamming_loss(y_test[labels[1]], y_test_pred_sm1) + hamming_loss(y_test[labels[2]], y_test_pred_sm2) )/3 )"
      ],
      "metadata": {
        "colab": {
          "base_uri": "https://localhost:8080/"
        },
        "id": "GghpRfgEFvsy",
        "outputId": "15b4ceb9-f5ed-475f-ff94-a7aa3443b63c"
      },
      "execution_count": 134,
      "outputs": [
        {
          "output_type": "stream",
          "name": "stdout",
          "text": [
            "Exact match - 0.8499305233904585\n",
            "Avg Hamming loss -  0.07735062528948587\n"
          ]
        }
      ]
    }
  ]
}